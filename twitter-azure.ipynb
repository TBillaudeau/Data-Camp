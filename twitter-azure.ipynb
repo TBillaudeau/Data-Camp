{
 "cells": [
  {
   "cell_type": "markdown",
   "metadata": {},
   "source": [
    "---"
   ]
  },
  {
   "cell_type": "markdown",
   "metadata": {},
   "source": [
    "### THIS NOTEBOOK EXPLAIN HOW WE DESIGNED THE LINK BETWEEN THE API, THE AZURE DATABASE, AND THE PYTHON FILE"
   ]
  },
  {
   "cell_type": "markdown",
   "metadata": {},
   "source": [
    "---\n",
    "### Imports"
   ]
  },
  {
   "cell_type": "code",
   "execution_count": 1,
   "metadata": {},
   "outputs": [],
   "source": [
    "import json\n",
    "import pandas as pd\n",
    "import numpy as np\n",
    "import tweepy\n",
    "from azure.cosmos import exceptions, CosmosClient, PartitionKey\n",
    "import asyncio"
   ]
  },
  {
   "cell_type": "markdown",
   "metadata": {},
   "source": [
    "---"
   ]
  },
  {
   "cell_type": "markdown",
   "metadata": {},
   "source": [
    "### Connect to Azure Cosmos DB"
   ]
  },
  {
   "cell_type": "code",
   "execution_count": 2,
   "metadata": {},
   "outputs": [],
   "source": [
    "# <add_uri_and_key>\n",
    "with open('venv/keys.json') as f:\n",
    "    keys = json.load(f)\n",
    "\n",
    "endpoint = keys['endpoint']\n",
    "key = keys['key']\n",
    "# </add_uri_and_key>\n",
    "\n",
    "# <define_database_and_container_name>\n",
    "database_name = 'DataCampCOS'\n",
    "container_name = 'Tweets'\n",
    "# </define_database_and_container_name>"
   ]
  },
  {
   "cell_type": "code",
   "execution_count": 3,
   "metadata": {},
   "outputs": [],
   "source": [
    "# Connection to the database\n",
    "client = CosmosClient(endpoint, key)"
   ]
  },
  {
   "cell_type": "markdown",
   "metadata": {},
   "source": [
    "---"
   ]
  },
  {
   "cell_type": "markdown",
   "metadata": {},
   "source": [
    "# Adding tweets from company name input\n",
    "*input* : \n",
    "* `company_name` (string) \n",
    "* `nbr_of_tweets` (int)\n",
    "\n",
    "\n",
    "*output* : \n",
    "* `tweets` (list of strings)"
   ]
  },
  {
   "cell_type": "code",
   "execution_count": 4,
   "metadata": {},
   "outputs": [],
   "source": [
    "company_name = 'Lego'\n",
    "nbr_of_tweets = 1000"
   ]
  },
  {
   "cell_type": "markdown",
   "metadata": {},
   "source": [
    "### Get tweets from API of twitter"
   ]
  },
  {
   "cell_type": "code",
   "execution_count": 5,
   "metadata": {},
   "outputs": [],
   "source": [
    "# get keys from keys.json\n",
    "with open('venv/keys.json') as f:\n",
    "    keys = json.load(f)\n",
    "\n",
    "# get the keys from the dictionary\n",
    "consumer_key = keys['consumer_key']\n",
    "consumer_secret = keys['consumer_secret']\n",
    "access_token = keys['access_token']\n",
    "access_token_secret = keys['access_token_secret']"
   ]
  },
  {
   "cell_type": "markdown",
   "metadata": {},
   "source": [
    "> connect to API"
   ]
  },
  {
   "cell_type": "code",
   "execution_count": 6,
   "metadata": {},
   "outputs": [
    {
     "name": "stdout",
     "output_type": "stream",
     "text": [
      "Authentication OK\n"
     ]
    }
   ],
   "source": [
    "# authentification to twitter with twitter api v2\n",
    "auth = tweepy.OAuthHandler(consumer_key, consumer_secret)\n",
    "auth.set_access_token(access_token, access_token_secret)\n",
    "\n",
    "api = tweepy.API(auth)\n",
    "\n",
    "# check if authentification is successful\n",
    "try:\n",
    "    api.verify_credentials()\n",
    "    print(\"Authentication OK\")\n",
    "except:\n",
    "    print(\"Error during authentication\")"
   ]
  },
  {
   "cell_type": "markdown",
   "metadata": {},
   "source": [
    "### Get tweets from the api and store them in a json format"
   ]
  },
  {
   "cell_type": "code",
   "execution_count": 7,
   "metadata": {},
   "outputs": [],
   "source": [
    "i= 0\n",
    "tweets_json = []\n",
    "while i < nbr_of_tweets/100:\n",
    "    tweets = api.search_tweets(q=company_name + \" -RT -giveaway\", count = 100,tweet_mode=\"extended\",lang=\"en\")\n",
    "    for tweet in tweets:\n",
    "        tweets_json.append(tweet._json)\n",
    "    i += 1 "
   ]
  },
  {
   "cell_type": "markdown",
   "metadata": {},
   "source": [
    "> Our tweets are stored in a json format --> `tweets_json`"
   ]
  },
  {
   "cell_type": "markdown",
   "metadata": {},
   "source": [
    "---"
   ]
  },
  {
   "cell_type": "markdown",
   "metadata": {},
   "source": [
    "### Add tweets to the database"
   ]
  },
  {
   "cell_type": "code",
   "execution_count": 8,
   "metadata": {},
   "outputs": [
    {
     "name": "stdout",
     "output_type": "stream",
     "text": [
      "Number of tweets to be added :  1000\n"
     ]
    }
   ],
   "source": [
    "print(\"Number of tweets to be added : \",len(tweets_json))"
   ]
  },
  {
   "cell_type": "code",
   "execution_count": 9,
   "metadata": {},
   "outputs": [],
   "source": [
    "# change the type of id of tweets to string\n",
    "for tweet in tweets_json:\n",
    "    tweet['id'] = str(tweet['id'])\n",
    "\n",
    "# add a new column to the tweets_dict called 'company' and assign the value 'uber'\n",
    "for tweet in tweets_json:\n",
    "    tweet['company'] = company_name"
   ]
  },
  {
   "cell_type": "markdown",
   "metadata": {},
   "source": [
    "---"
   ]
  },
  {
   "cell_type": "markdown",
   "metadata": {},
   "source": [
    "### We create a new item named by the company name to store all tweets"
   ]
  },
  {
   "cell_type": "code",
   "execution_count": 10,
   "metadata": {},
   "outputs": [],
   "source": [
    "#! Create an item to store tweets from a new company\n",
    "try:\n",
    "    client.get_database_client(database_name).get_container_client(container_name).create_item(body={'id': company_name, 'tweets': []})\n",
    "except exceptions.CosmosResourceExistsError:\n",
    "    print(\"Item already exists\")"
   ]
  },
  {
   "cell_type": "markdown",
   "metadata": {},
   "source": [
    "---"
   ]
  },
  {
   "cell_type": "markdown",
   "metadata": {},
   "source": [
    "### Then we can acces it and add new tweets"
   ]
  },
  {
   "cell_type": "code",
   "execution_count": null,
   "metadata": {},
   "outputs": [],
   "source": [
    "item = client.get_database_client(database_name).get_container_client(container_name).read_item(item=company_name, partition_key=company_name)\n",
    "\n",
    "# add the tweets to the item\n",
    "item['tweets'] = tweets_json\n",
    "\n",
    "# update the item\n",
    "try:\n",
    "    client.get_database_client(database_name).get_container_client(container_name).upsert_item(body=item)\n",
    "except exceptions.CosmosHttpResponseError:\n",
    "    print(\"Error\")"
   ]
  },
  {
   "cell_type": "markdown",
   "metadata": {},
   "source": [
    "---\n",
    "We look how many tweets are stored in the database"
   ]
  },
  {
   "cell_type": "code",
   "execution_count": null,
   "metadata": {},
   "outputs": [],
   "source": [
    "# check how many tweets are in the list tweets of the item Uber\n",
    "item = client.get_database_client(database_name).get_container_client(container_name).read_item(item=company_name, partition_key=company_name)\n",
    "print(\"Number of tweets in the list tweets of the item\", company_name, \":\", len(item['tweets']))"
   ]
  },
  {
   "cell_type": "markdown",
   "metadata": {},
   "source": [
    "---"
   ]
  }
 ],
 "metadata": {
  "kernelspec": {
   "display_name": "Python 3.9.12 ('base')",
   "language": "python",
   "name": "python3"
  },
  "language_info": {
   "codemirror_mode": {
    "name": "ipython",
    "version": 3
   },
   "file_extension": ".py",
   "mimetype": "text/x-python",
   "name": "python",
   "nbconvert_exporter": "python",
   "pygments_lexer": "ipython3",
   "version": "3.9.12"
  },
  "orig_nbformat": 4,
  "vscode": {
   "interpreter": {
    "hash": "b0f780f6953315d70cea14901f81af06c03f74caba7eef0c2de6a03b2d635aa0"
   }
  }
 },
 "nbformat": 4,
 "nbformat_minor": 2
}
