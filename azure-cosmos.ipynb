{
 "cells": [
  {
   "cell_type": "markdown",
   "metadata": {},
   "source": [
    "---"
   ]
  },
  {
   "cell_type": "markdown",
   "metadata": {},
   "source": [
    "## imports"
   ]
  },
  {
   "cell_type": "code",
   "execution_count": 1,
   "metadata": {},
   "outputs": [
    {
     "name": "stdout",
     "output_type": "stream",
     "text": [
      "Requirement already satisfied: aiohttp in e:\\applications\\anaconda\\lib\\site-packages (3.8.1)\n",
      "Requirement already satisfied: frozenlist>=1.1.1 in e:\\applications\\anaconda\\lib\\site-packages (from aiohttp) (1.2.0)\n",
      "Requirement already satisfied: yarl<2.0,>=1.0 in e:\\applications\\anaconda\\lib\\site-packages (from aiohttp) (1.6.3)\n",
      "Requirement already satisfied: attrs>=17.3.0 in e:\\applications\\anaconda\\lib\\site-packages (from aiohttp) (21.4.0)\n",
      "Requirement already satisfied: charset-normalizer<3.0,>=2.0 in e:\\applications\\anaconda\\lib\\site-packages (from aiohttp) (2.0.4)\n",
      "Requirement already satisfied: aiosignal>=1.1.2 in e:\\applications\\anaconda\\lib\\site-packages (from aiohttp) (1.2.0)\n",
      "Requirement already satisfied: multidict<7.0,>=4.5 in e:\\applications\\anaconda\\lib\\site-packages (from aiohttp) (5.1.0)\n",
      "Requirement already satisfied: async-timeout<5.0,>=4.0.0a3 in e:\\applications\\anaconda\\lib\\site-packages (from aiohttp) (4.0.1)\n",
      "Requirement already satisfied: typing-extensions>=3.6.5 in e:\\applications\\anaconda\\lib\\site-packages (from async-timeout<5.0,>=4.0.0a3->aiohttp) (4.1.1)\n",
      "Requirement already satisfied: idna>=2.0 in e:\\applications\\anaconda\\lib\\site-packages (from yarl<2.0,>=1.0->aiohttp) (3.3)\n"
     ]
    },
    {
     "name": "stderr",
     "output_type": "stream",
     "text": [
      "\n",
      "[notice] A new release of pip available: 22.2.2 -> 22.3\n",
      "[notice] To update, run: python.exe -m pip install --upgrade pip\n"
     ]
    },
    {
     "name": "stdout",
     "output_type": "stream",
     "text": [
      "Collecting azure.cosmos\n",
      "  Downloading azure_cosmos-4.3.0-py3-none-any.whl (215 kB)\n",
      "     -------------------------------------- 215.6/215.6 kB 2.6 MB/s eta 0:00:00\n",
      "Collecting azure-core<2.0.0,>=1.23.0\n",
      "  Downloading azure_core-1.26.0-py3-none-any.whl (178 kB)\n",
      "     -------------------------------------- 178.9/178.9 kB 2.7 MB/s eta 0:00:00\n",
      "Requirement already satisfied: requests>=2.18.4 in e:\\applications\\anaconda\\lib\\site-packages (from azure-core<2.0.0,>=1.23.0->azure.cosmos) (2.27.1)\n",
      "Requirement already satisfied: six>=1.11.0 in e:\\applications\\anaconda\\lib\\site-packages (from azure-core<2.0.0,>=1.23.0->azure.cosmos) (1.16.0)\n",
      "Requirement already satisfied: typing-extensions>=4.0.1 in e:\\applications\\anaconda\\lib\\site-packages (from azure-core<2.0.0,>=1.23.0->azure.cosmos) (4.1.1)\n",
      "Requirement already satisfied: charset-normalizer~=2.0.0 in e:\\applications\\anaconda\\lib\\site-packages (from requests>=2.18.4->azure-core<2.0.0,>=1.23.0->azure.cosmos) (2.0.4)\n",
      "Requirement already satisfied: urllib3<1.27,>=1.21.1 in e:\\applications\\anaconda\\lib\\site-packages (from requests>=2.18.4->azure-core<2.0.0,>=1.23.0->azure.cosmos) (1.26.9)\n",
      "Requirement already satisfied: certifi>=2017.4.17 in e:\\applications\\anaconda\\lib\\site-packages (from requests>=2.18.4->azure-core<2.0.0,>=1.23.0->azure.cosmos) (2021.10.8)\n",
      "Requirement already satisfied: idna<4,>=2.5 in e:\\applications\\anaconda\\lib\\site-packages (from requests>=2.18.4->azure-core<2.0.0,>=1.23.0->azure.cosmos) (3.3)\n",
      "Installing collected packages: azure-core, azure.cosmos\n",
      "Successfully installed azure-core-1.26.0 azure.cosmos-4.3.0\n"
     ]
    },
    {
     "name": "stderr",
     "output_type": "stream",
     "text": [
      "\n",
      "[notice] A new release of pip available: 22.2.2 -> 22.3\n",
      "[notice] To update, run: python.exe -m pip install --upgrade pip\n"
     ]
    }
   ],
   "source": [
    "# # install packages\n",
    "# !pip install aiohttp\n",
    "# !pip install azure.cosmos"
   ]
  },
  {
   "cell_type": "code",
   "execution_count": 6,
   "metadata": {},
   "outputs": [],
   "source": [
    "import json\n",
    "import pandas as pd\n",
    "import numpy as np\n",
    "import tweepy\n",
    "from azure.cosmos import exceptions, CosmosClient, PartitionKey\n",
    "import asyncio"
   ]
  },
  {
   "cell_type": "markdown",
   "metadata": {},
   "source": [
    "---"
   ]
  },
  {
   "cell_type": "markdown",
   "metadata": {},
   "source": [
    "### Connect to Azure Cosmos DB"
   ]
  },
  {
   "cell_type": "code",
   "execution_count": 3,
   "metadata": {},
   "outputs": [],
   "source": [
    "# <add_uri_and_key>\n",
    "with open('venv/keys.json') as f:\n",
    "    keys = json.load(f)\n",
    "\n",
    "endpoint = keys['endpoint']\n",
    "key = keys['key']\n",
    "# </add_uri_and_key>\n",
    "\n",
    "# <define_database_and_container_name>\n",
    "database_name = 'DataCampCOS'\n",
    "container_name = 'Tweets'\n",
    "# </define_database_and_container_name>"
   ]
  },
  {
   "cell_type": "code",
   "execution_count": 4,
   "metadata": {},
   "outputs": [],
   "source": [
    "# Connection to the database\n",
    "client = CosmosClient(endpoint, key)"
   ]
  },
  {
   "cell_type": "markdown",
   "metadata": {},
   "source": [
    "---"
   ]
  },
  {
   "cell_type": "markdown",
   "metadata": {},
   "source": [
    "*TESTS*"
   ]
  },
  {
   "cell_type": "markdown",
   "metadata": {},
   "source": [
    "---"
   ]
  },
  {
   "cell_type": "markdown",
   "metadata": {},
   "source": [
    "# Adding tweets from company name input\n",
    "*input* : \n",
    "* `company_name` (string) \n",
    "* `nbr_of_tweets` (int)\n",
    "\n",
    "\n",
    "*output* : \n",
    "* `tweets` (list of strings)"
   ]
  },
  {
   "cell_type": "code",
   "execution_count": 72,
   "metadata": {},
   "outputs": [],
   "source": [
    "company_name = 'Nvidia'\n",
    "nbr_of_tweets = 1000"
   ]
  },
  {
   "cell_type": "markdown",
   "metadata": {},
   "source": [
    "### Get tweets from API of twitter"
   ]
  },
  {
   "cell_type": "code",
   "execution_count": 12,
   "metadata": {},
   "outputs": [],
   "source": [
    "# get keys from keys.json\n",
    "with open('venv/keys.json') as f:\n",
    "    keys = json.load(f)\n",
    "\n",
    "# get the keys from the dictionary\n",
    "consumer_key = keys['consumer_key']\n",
    "consumer_secret = keys['consumer_secret']\n",
    "access_token = keys['access_token']\n",
    "access_token_secret = keys['access_token_secret']"
   ]
  },
  {
   "cell_type": "markdown",
   "metadata": {},
   "source": [
    "> connect to API"
   ]
  },
  {
   "cell_type": "code",
   "execution_count": 13,
   "metadata": {},
   "outputs": [
    {
     "name": "stdout",
     "output_type": "stream",
     "text": [
      "Authentication OK\n"
     ]
    }
   ],
   "source": [
    "# authentification to twitter with twitter api v2\n",
    "auth = tweepy.OAuthHandler(consumer_key, consumer_secret)\n",
    "auth.set_access_token(access_token, access_token_secret)\n",
    "\n",
    "api = tweepy.API(auth)\n",
    "\n",
    "# check if authentification is successful\n",
    "try:\n",
    "    api.verify_credentials()\n",
    "    print(\"Authentication OK\")\n",
    "except:\n",
    "    print(\"Error during authentication\")"
   ]
  },
  {
   "cell_type": "markdown",
   "metadata": {},
   "source": [
    "### Get tweets from the api and store them in a json format"
   ]
  },
  {
   "cell_type": "code",
   "execution_count": 73,
   "metadata": {},
   "outputs": [],
   "source": [
    "i= 0\n",
    "tweets_json = []\n",
    "while i < nbr_of_tweets/100:\n",
    "    tweets = api.search_tweets(q=company_name + \" -RT -giveaway\", count = 100,tweet_mode=\"extended\",lang=\"en\")\n",
    "    for tweet in tweets:\n",
    "        tweets_json.append(tweet._json)\n",
    "    i += 1 "
   ]
  },
  {
   "cell_type": "markdown",
   "metadata": {},
   "source": [
    "> Our tweets are stored in a json format --> `tweets_json`"
   ]
  },
  {
   "cell_type": "markdown",
   "metadata": {},
   "source": [
    "---"
   ]
  },
  {
   "cell_type": "markdown",
   "metadata": {},
   "source": [
    "### Add tweets to the database"
   ]
  },
  {
   "cell_type": "code",
   "execution_count": 74,
   "metadata": {},
   "outputs": [
    {
     "name": "stdout",
     "output_type": "stream",
     "text": [
      "Number of tweets to be added :  1000\n"
     ]
    }
   ],
   "source": [
    "print(\"Number of tweets to be added : \",len(tweets_json))"
   ]
  },
  {
   "cell_type": "code",
   "execution_count": 75,
   "metadata": {},
   "outputs": [],
   "source": [
    "# change the type of id of tweets to string\n",
    "for tweet in tweets_json:\n",
    "    tweet['id'] = str(tweet['id'])\n",
    "\n",
    "# add a new column to the tweets_dict called 'company' and assign the value 'uber'\n",
    "for tweet in tweets_json:\n",
    "    tweet['company'] = company_name"
   ]
  },
  {
   "cell_type": "markdown",
   "metadata": {},
   "source": [
    "---"
   ]
  },
  {
   "cell_type": "markdown",
   "metadata": {},
   "source": [
    "### We create a new item named by the company name to store all tweets"
   ]
  },
  {
   "cell_type": "code",
   "execution_count": 76,
   "metadata": {},
   "outputs": [
    {
     "name": "stdout",
     "output_type": "stream",
     "text": [
      "Item already exists\n"
     ]
    }
   ],
   "source": [
    "#! Create an item to store tweets from a new company\n",
    "try:\n",
    "    client.get_database_client(database_name).get_container_client(container_name).create_item(body={'id': company_name, 'tweets': []})\n",
    "except exceptions.CosmosResourceExistsError:\n",
    "    print(\"Item already exists\")"
   ]
  },
  {
   "cell_type": "markdown",
   "metadata": {},
   "source": [
    "---"
   ]
  },
  {
   "cell_type": "markdown",
   "metadata": {},
   "source": [
    "### Then we can acces it and add new tweets"
   ]
  },
  {
   "cell_type": "code",
   "execution_count": 77,
   "metadata": {},
   "outputs": [
    {
     "data": {
      "text/plain": [
       "'Nvidia'"
      ]
     },
     "execution_count": 77,
     "metadata": {},
     "output_type": "execute_result"
    }
   ],
   "source": [
    "company_name"
   ]
  },
  {
   "cell_type": "code",
   "execution_count": 78,
   "metadata": {},
   "outputs": [
    {
     "name": "stdout",
     "output_type": "stream",
     "text": [
      "Error\n"
     ]
    }
   ],
   "source": [
    "item = client.get_database_client(database_name).get_container_client(container_name).read_item(item=company_name, partition_key=company_name)\n",
    "\n",
    "# add the tweets to the item\n",
    "item['tweets'] = tweets_json\n",
    "\n",
    "# update the item\n",
    "try:\n",
    "    client.get_database_client(database_name).get_container_client(container_name).upsert_item(body=item)\n",
    "except exceptions.CosmosHttpResponseError:\n",
    "    print(\"Error\")"
   ]
  },
  {
   "cell_type": "markdown",
   "metadata": {},
   "source": [
    "---\n",
    "We look how many tweets are stored in the database"
   ]
  },
  {
   "cell_type": "code",
   "execution_count": 79,
   "metadata": {},
   "outputs": [
    {
     "name": "stdout",
     "output_type": "stream",
     "text": [
      "Number of tweets in the list tweets of the item Nvidia : 0\n"
     ]
    }
   ],
   "source": [
    "# check how many tweets are in the list tweets of the item Uber\n",
    "item = client.get_database_client(database_name).get_container_client(container_name).read_item(item=company_name, partition_key=company_name)\n",
    "print(\"Number of tweets in the list tweets of the item\", company_name, \":\", len(item['tweets']))"
   ]
  },
  {
   "cell_type": "markdown",
   "metadata": {},
   "source": [
    "---"
   ]
  }
 ],
 "metadata": {
  "kernelspec": {
   "display_name": "Python 3.9.12 ('base')",
   "language": "python",
   "name": "python3"
  },
  "language_info": {
   "codemirror_mode": {
    "name": "ipython",
    "version": 3
   },
   "file_extension": ".py",
   "mimetype": "text/x-python",
   "name": "python",
   "nbconvert_exporter": "python",
   "pygments_lexer": "ipython3",
   "version": "3.9.12"
  },
  "orig_nbformat": 4,
  "vscode": {
   "interpreter": {
    "hash": "b0f780f6953315d70cea14901f81af06c03f74caba7eef0c2de6a03b2d635aa0"
   }
  }
 },
 "nbformat": 4,
 "nbformat_minor": 2
}
